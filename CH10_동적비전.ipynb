{
 "cells": [
  {
   "cell_type": "markdown",
   "id": "e89f327d",
   "metadata": {},
   "source": [
    "**비디오에서 얼굴 검출하기**"
   ]
  },
  {
   "cell_type": "code",
   "execution_count": null,
   "id": "b516841e",
   "metadata": {},
   "outputs": [],
   "source": [
    "import cv2 as cv\n",
    "import mediapipe as mp\n",
    "\n",
    "mp_face_detection=mp.solutions.face_detection\n",
    "mp_drawing=mp.solutions.drawing_utils\n",
    "\n",
    "face_detection=mp_face_detection.FaceDetection(model_selection=1, min_detection_confidence=0.5)\n",
    "\n",
    "cap=cv.VideoCapture(0,cv.CAP_DSHOW)\n",
    "\n",
    "while True:\n",
    "    ret,frame=cap.read()\n",
    "    if not ret:\n",
    "        print('프레임 획득 실패')\n",
    "        break\n",
    "    \n",
    "    res=face_detection.process(cv.cvtColor(frame,cv.COLOR_BGR2RGB))\n",
    "    \n",
    "    if res.detections:\n",
    "        for detection in res.detections:\n",
    "            mp_drawing.draw_detection(frame,detection)\n",
    "            \n",
    "    cv.imshow('MediaPipe Face Detection from video',cv.flip(frame,1))\n",
    "    if cv.waitKey(5)==ord('q'):\n",
    "        break\n",
    "    \n",
    "cap.release()\n",
    "cv.destroyAllWindows()"
   ]
  },
  {
   "cell_type": "markdown",
   "id": "5b695a84",
   "metadata": {},
   "source": [
    "**얼굴을 장식하는 증강 현실 구현하기**"
   ]
  },
  {
   "cell_type": "code",
   "execution_count": 1,
   "id": "83a3615d",
   "metadata": {},
   "outputs": [],
   "source": [
    "import cv2 as cv\n",
    "import mediapipe as mp"
   ]
  },
  {
   "cell_type": "markdown",
   "id": "2f866c57",
   "metadata": {},
   "source": [
    "| 패키지                       | 버전            |\n",
    "| ------------------------- | ------------- |\n",
    "| **python**                | 3.9 (가상환경 버전) |\n",
    "| **tensorflow**            | 2.10.0        |\n",
    "| **keras**                 | 2.10.0        |\n",
    "| **protobuf**              | 3.20.3        |\n",
    "| **mediapipe**             | 0.10.9        |\n",
    "| **pixellib**              | 0.7.1         |\n",
    "| **opencv-python**         | 4.5.5.64      |\n",
    "| **opencv-contrib-python** | 4.11.0.86     |\n",
    "| **numpy**                 | 1.26.4        |\n",
    "| **pillow**                | 11.3.0        |\n",
    "| **imantics**              | 0.1.12        |\n",
    "| **matplotlib**            | 3.9.4         |\n"
   ]
  },
  {
   "cell_type": "code",
   "execution_count": 6,
   "id": "fe14058e",
   "metadata": {},
   "outputs": [],
   "source": [
    "eye=cv.imread('sarunan.png',cv.IMREAD_UNCHANGED)\n",
    "eye=cv.resize(eye,dsize=(0,0),fx=0.1,fy=0.1)\n",
    "w,h=eye.shape[1],eye.shape[0]\n",
    "\n",
    "mp_face_detection=mp.solutions.face_detection\n",
    "mp_drawing=mp.solutions.drawing_utils\n",
    "\n",
    "face_detection=mp_face_detection.FaceDetection(model_selection=1, min_detection_confidence=0.5)\n",
    "\n",
    "cap=cv.VideoCapture(0,cv.CAP_DSHOW)\n",
    "\n",
    "while True:\n",
    "    ret,frame=cap.read()\n",
    "    if not ret:\n",
    "        print('프레임 획득 실패')\n",
    "        break\n",
    "    \n",
    "    res=face_detection.process(cv.cvtColor(frame,cv.COLOR_BGR2RGB))\n",
    "    \n",
    "    if res.detections:\n",
    "        for det in res.detections:\n",
    "            p=mp_face_detection.get_key_point(det,mp_face_detection.FaceKeyPoint.RIGHT_EYE)\n",
    "            x1,x2=int(p.x*frame.shape[1]-w//2),int(p.x*frame.shape[1]+w//2)\n",
    "            y1,y2=int(p.y*frame.shape[0]-h//2),int(p.y*frame.shape[0]+h//2)\n",
    "            if x1>0 and y1>0 and x2<frame.shape[1] and y2<frame.shape[0]:\n",
    "                alpha=eye[:,:,3:]/255\n",
    "                frame[y1:y2,x1:x2]=frame[y1:y2,x1:x2]*(1-alpha)+eye[:,:,:3]*alpha\n",
    "                \n",
    "    cv.imshow('MediaPipe Face AR',cv.flip(frame,1))\n",
    "    if cv.waitKey(5)==ord('q'):\n",
    "        break\n",
    "\n",
    "cap.release()\n",
    "cv.destroyAllWindows()    \n",
    "    "
   ]
  },
  {
   "cell_type": "code",
   "execution_count": null,
   "id": "af56e188",
   "metadata": {},
   "outputs": [],
   "source": []
  }
 ],
 "metadata": {
  "kernelspec": {
   "display_name": "newseg",
   "language": "python",
   "name": "python3"
  },
  "language_info": {
   "codemirror_mode": {
    "name": "ipython",
    "version": 3
   },
   "file_extension": ".py",
   "mimetype": "text/x-python",
   "name": "python",
   "nbconvert_exporter": "python",
   "pygments_lexer": "ipython3",
   "version": "3.9.23"
  }
 },
 "nbformat": 4,
 "nbformat_minor": 5
}
