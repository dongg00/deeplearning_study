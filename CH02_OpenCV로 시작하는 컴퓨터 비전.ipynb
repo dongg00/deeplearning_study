{
 "cells": [
  {
   "cell_type": "markdown",
   "id": "9dc54048",
   "metadata": {},
   "source": [
    "**웹 캠으로 비디오 획득하기**"
   ]
  },
  {
   "cell_type": "code",
   "execution_count": 1,
   "id": "8f58529f",
   "metadata": {},
   "outputs": [],
   "source": [
    "import cv2 as cv\n",
    "import sys\n",
    "\n",
    "cap=cv.VideoCapture(0,cv.CAP_DSHOW)\t# 카메라와 연결 시도\n",
    "\n",
    "if not cap.isOpened():\n",
    "    sys.exit('카메라 연결 실패')\n",
    "    \n",
    "while True:\n",
    "    ret,frame=cap.read()\t\t\t# 비디오를 구성하는 프레임 획득q\n",
    "    \n",
    "    if not ret:\n",
    "        print('프레임 획득에 실패하여 루프를 나갑니다.')\n",
    "        break\n",
    "        \n",
    "    cv.imshow('Video display',frame)\n",
    "    \n",
    "    key=cv.waitKey(1)\t# 1밀리초 동안 키보드 입력 기다림\n",
    "    if key==ord('q'):\t# 'q' 키가 들어오면 루프를 빠져나감\n",
    "        break \n",
    "    \n",
    "cap.release()\t\t\t# 카메라와 연결을 끊음\n",
    "cv.destroyAllWindows()\n"
   ]
  },
  {
   "cell_type": "markdown",
   "id": "8b8ca3de",
   "metadata": {},
   "source": [
    "**비디오에서 수집한 영상을 이어 붙이기**"
   ]
  },
  {
   "cell_type": "code",
   "execution_count": 3,
   "id": "b75c7af2",
   "metadata": {},
   "outputs": [],
   "source": [
    "import cv2 as cv\n",
    "import numpy as np\n",
    "import sys\n",
    "\n",
    "cap=cv.VideoCapture(0,cv.CAP_DSHOW)\t# 카메라와 연결 시도\n",
    "\n",
    "if not cap.isOpened():\n",
    "    sys.exit('카메라 연결 실패')\n",
    "\n",
    "frames=[]\n",
    "while True:\n",
    "    ret,frame=cap.read()\t\t\t# 비디오를 구성하는 프레임 획득q\n",
    "    \n",
    "    if not ret:\n",
    "        print('프레임 획득에 실패하여 루프를 나갑니다.')\n",
    "        break\n",
    "        \n",
    "    cv.imshow('Video display',frame)\n",
    "    \n",
    "    key=cv.waitKey(1)\t# 1밀리초 동안 키보드 입력 기다림\n",
    "    if key==ord('c'):\t# 'q' 키가 들어오면 루프를 빠져나감\n",
    "        frames.append(frame)\n",
    "    elif key==ord('q'):\n",
    "        break \n",
    "    \n",
    "cap.release()\t\t\t# 카메라와 연결을 끊음\n",
    "cv.destroyAllWindows()\n",
    "\n",
    "if len(frames)>0:\n",
    "    imgs=frames[0]\n",
    "    for i in range(1,min(3,len(frames))):\n",
    "        imgs=np.hstack((imgs,frames[i]))\n",
    "    \n",
    "    cv.imshow('collected images',imgs)\n",
    "    \n",
    "    cv.waitKey()\n",
    "    cv.destroyAllWindows()\n"
   ]
  },
  {
   "cell_type": "markdown",
   "id": "f6e81600",
   "metadata": {},
   "source": [
    "**영상에 도형을 그리고 글자 쓰기**"
   ]
  },
  {
   "cell_type": "code",
   "execution_count": 3,
   "id": "9382ebe3",
   "metadata": {},
   "outputs": [],
   "source": [
    "import cv2 as cv\n",
    "import sys\n",
    "\n",
    "img=cv.imread('girl_laughing.jpg') \n",
    "  \n",
    "if img is None:\n",
    "    sys.exit('파일을 찾을 수 없습니다.')\n",
    "\n",
    "cv.rectangle(img,(830,30),(1000,200),(0,0,255),2)\t# 직사각형 그리기\n",
    "cv.putText(img,'laugh',(830,24),cv.FONT_HERSHEY_SIMPLEX,1,(255,0,0),2)\t# 글씨 쓰기\n",
    "\n",
    "cv.imshow('Draw',img)\n",
    "\n",
    "cv.waitKey()\n",
    "cv.destroyAllWindows()"
   ]
  },
  {
   "cell_type": "markdown",
   "id": "e9018769",
   "metadata": {},
   "source": [
    "**마우스를 클릭한 곳에 직사각형 그리기**"
   ]
  },
  {
   "cell_type": "code",
   "execution_count": 4,
   "id": "b121e5d0",
   "metadata": {},
   "outputs": [
    {
     "ename": "KeyboardInterrupt",
     "evalue": "",
     "output_type": "error",
     "traceback": [
      "\u001b[1;31m---------------------------------------------------------------------------\u001b[0m",
      "\u001b[1;31mKeyboardInterrupt\u001b[0m                         Traceback (most recent call last)",
      "Cell \u001b[1;32mIn[4], line 23\u001b[0m\n\u001b[0;32m     20\u001b[0m cv\u001b[38;5;241m.\u001b[39msetMouseCallback(\u001b[38;5;124m'\u001b[39m\u001b[38;5;124mDrawing\u001b[39m\u001b[38;5;124m'\u001b[39m,draw)\t\u001b[38;5;66;03m# Drawing 윈도우에 draw 콜백 함수 지정\u001b[39;00m\n\u001b[0;32m     22\u001b[0m \u001b[38;5;28;01mwhile\u001b[39;00m(\u001b[38;5;28;01mTrue\u001b[39;00m):\t\t\u001b[38;5;66;03m# 마우스 이벤트가 언제 발생할지 모르므로 무한 반복\u001b[39;00m\n\u001b[1;32m---> 23\u001b[0m     \u001b[38;5;28;01mif\u001b[39;00m \u001b[43mcv\u001b[49m\u001b[38;5;241;43m.\u001b[39;49m\u001b[43mwaitKey\u001b[49m\u001b[43m(\u001b[49m\u001b[38;5;241;43m1\u001b[39;49m\u001b[43m)\u001b[49m\u001b[38;5;241m==\u001b[39m\u001b[38;5;28mord\u001b[39m(\u001b[38;5;124m'\u001b[39m\u001b[38;5;124mq\u001b[39m\u001b[38;5;124m'\u001b[39m):\n\u001b[0;32m     24\u001b[0m         cv\u001b[38;5;241m.\u001b[39mdestroyAllWindows() \n\u001b[0;32m     25\u001b[0m         \u001b[38;5;28;01mbreak\u001b[39;00m\n",
      "\u001b[1;31mKeyboardInterrupt\u001b[0m: "
     ]
    }
   ],
   "source": [
    "import cv2 as cv\n",
    "import sys\n",
    "\n",
    "img=cv.imread('girl_laughing.jpg') \n",
    "  \n",
    "if img is None:\n",
    "    sys.exit('파일을 찾을 수 없습니다.')\n",
    "    \n",
    "def draw(event,x,y,flags,param):\t\t# 콜백 함수\n",
    "    if event==cv.EVENT_LBUTTONDOWN:\t# 마우스 왼쪽 버튼 클릭했을 때\n",
    "        cv.rectangle(img,(x,y),(x+200,y+200),(0,0,255),2)\n",
    "    elif event==cv.EVENT_RBUTTONDOWN:\t# 마우스 오른쪽 버튼 클릭했을 때\n",
    "        cv.rectangle(img,(x,y),(x+100,y+100),(255,0,0),2)  \n",
    "        \n",
    "    cv.imshow('Drawing',img)          \n",
    "    \n",
    "cv.namedWindow('Drawing')\n",
    "cv.imshow('Drawing',img)\n",
    "\n",
    "cv.setMouseCallback('Drawing',draw)\t# Drawing 윈도우에 draw 콜백 함수 지정\n",
    "\n",
    "while(True):\t\t# 마우스 이벤트가 언제 발생할지 모르므로 무한 반복\n",
    "    if cv.waitKey(1)==ord('q'):\n",
    "        cv.destroyAllWindows() \n",
    "        break"
   ]
  },
  {
   "cell_type": "markdown",
   "id": "89899b72",
   "metadata": {},
   "source": []
  },
  {
   "cell_type": "code",
   "execution_count": 5,
   "id": "7fdf59ec",
   "metadata": {},
   "outputs": [
    {
     "ename": "KeyboardInterrupt",
     "evalue": "",
     "output_type": "error",
     "traceback": [
      "\u001b[1;31m---------------------------------------------------------------------------\u001b[0m",
      "\u001b[1;31mKeyboardInterrupt\u001b[0m                         Traceback (most recent call last)",
      "Cell \u001b[1;32mIn[5], line 25\u001b[0m\n\u001b[0;32m     22\u001b[0m cv\u001b[38;5;241m.\u001b[39msetMouseCallback(\u001b[38;5;124m'\u001b[39m\u001b[38;5;124mDrawing\u001b[39m\u001b[38;5;124m'\u001b[39m,draw)\n\u001b[0;32m     24\u001b[0m \u001b[38;5;28;01mwhile\u001b[39;00m(\u001b[38;5;28;01mTrue\u001b[39;00m):\n\u001b[1;32m---> 25\u001b[0m     \u001b[38;5;28;01mif\u001b[39;00m \u001b[43mcv\u001b[49m\u001b[38;5;241;43m.\u001b[39;49m\u001b[43mwaitKey\u001b[49m\u001b[43m(\u001b[49m\u001b[38;5;241;43m1\u001b[39;49m\u001b[43m)\u001b[49m\u001b[38;5;241m==\u001b[39m\u001b[38;5;28mord\u001b[39m(\u001b[38;5;124m'\u001b[39m\u001b[38;5;124mq\u001b[39m\u001b[38;5;124m'\u001b[39m):\n\u001b[0;32m     26\u001b[0m         cv\u001b[38;5;241m.\u001b[39mdestroyAllWindows()      \n\u001b[0;32m     27\u001b[0m         \u001b[38;5;28;01mbreak\u001b[39;00m\n",
      "\u001b[1;31mKeyboardInterrupt\u001b[0m: "
     ]
    }
   ],
   "source": [
    "import cv2 as cv\n",
    "import sys\n",
    "\n",
    "img=cv.imread('girl_laughing.jpg') \n",
    "  \n",
    "if img is None:\n",
    "    sys.exit('파일을 찾을 수 없습니다.')\n",
    "    \n",
    "def draw(event,x,y,flags,param):\n",
    "    global ix,iy\n",
    "    \n",
    "    if event==cv.EVENT_LBUTTONDOWN:\t# 마우스 왼쪽 버튼 클릭했을 때 초기 위치 저장\n",
    "        ix,iy=x,y\n",
    "    elif event==cv.EVENT_LBUTTONUP:\t# 마우스 왼쪽 버튼 클릭했을 때 직사각형 그리기\n",
    "        cv.rectangle(img,(ix,iy),(x,y),(0,0,255),2)\n",
    "    \n",
    "    cv.imshow('Drawing',img)\n",
    "    \n",
    "cv.namedWindow('Drawing')\n",
    "cv.imshow('Drawing',img)\n",
    "\n",
    "cv.setMouseCallback('Drawing',draw)\n",
    "\n",
    "while(True):\n",
    "    if cv.waitKey(1)==ord('q'):\n",
    "        cv.destroyAllWindows()      \n",
    "        break"
   ]
  },
  {
   "cell_type": "markdown",
   "id": "bdba5847",
   "metadata": {},
   "source": [
    "**마우스 드래그로 직사각형 그리기**"
   ]
  },
  {
   "cell_type": "code",
   "execution_count": 7,
   "id": "33362fbe",
   "metadata": {},
   "outputs": [
    {
     "ename": "KeyboardInterrupt",
     "evalue": "",
     "output_type": "error",
     "traceback": [
      "\u001b[1;31m---------------------------------------------------------------------------\u001b[0m",
      "\u001b[1;31mKeyboardInterrupt\u001b[0m                         Traceback (most recent call last)",
      "Cell \u001b[1;32mIn[7], line 30\u001b[0m\n\u001b[0;32m     27\u001b[0m cv\u001b[38;5;241m.\u001b[39msetMouseCallback(\u001b[38;5;124m'\u001b[39m\u001b[38;5;124mPainting\u001b[39m\u001b[38;5;124m'\u001b[39m,painting)\n\u001b[0;32m     29\u001b[0m \u001b[38;5;28;01mwhile\u001b[39;00m(\u001b[38;5;28;01mTrue\u001b[39;00m):\n\u001b[1;32m---> 30\u001b[0m     \u001b[38;5;28;01mif\u001b[39;00m \u001b[43mcv\u001b[49m\u001b[38;5;241;43m.\u001b[39;49m\u001b[43mwaitKey\u001b[49m\u001b[43m(\u001b[49m\u001b[38;5;241;43m1\u001b[39;49m\u001b[43m)\u001b[49m\u001b[38;5;241m==\u001b[39m\u001b[38;5;28mord\u001b[39m(\u001b[38;5;124m'\u001b[39m\u001b[38;5;124mq\u001b[39m\u001b[38;5;124m'\u001b[39m):\n\u001b[0;32m     31\u001b[0m         cv\u001b[38;5;241m.\u001b[39mdestroyAllWindows()      \n\u001b[0;32m     32\u001b[0m         \u001b[38;5;28;01mbreak\u001b[39;00m\n",
      "\u001b[1;31mKeyboardInterrupt\u001b[0m: "
     ]
    }
   ],
   "source": [
    "import cv2 as cv \n",
    "import sys\n",
    "\n",
    "img=cv.imread('soccer.jpg')\n",
    "\n",
    "if img is None:\n",
    "    sys.exit('파일을 찾을 수 없습니다.')\n",
    "\n",
    "BrushSiz=5\t\t\t\t\t# 붓의 크기\n",
    "LColor,RColor=(255,0,0),(0,0,255)\t\t# 파란색과 빨간색\n",
    "\n",
    "def painting(event,x,y,flags,param):\n",
    "    if event==cv.EVENT_LBUTTONDOWN:   \n",
    "        cv.circle(img,(x,y),BrushSiz,LColor,-1)# 마우스 왼쪽 버튼 클릭하면 파란색\n",
    "    elif event==cv.EVENT_RBUTTONDOWN: \n",
    "        cv.circle(img,(x,y),BrushSiz,RColor,-1)# 마우스 오른쪽 버튼 클릭하면 빨간색\n",
    "    elif event==cv.EVENT_MOUSEMOVE and flags==cv.EVENT_FLAG_LBUTTON:\n",
    "        cv.circle(img,(x,y),BrushSiz,LColor,-1)# 왼쪽 버튼 클릭하고 이동하면 파란색\n",
    "    elif event==cv.EVENT_MOUSEMOVE and flags==cv.EVENT_FLAG_RBUTTON:\n",
    "        cv.circle(img,(x,y),BrushSiz,RColor,-1)# 오른쪽 버튼 클릭하고 이동하면 빨간색\n",
    "\n",
    "    cv.imshow('Painting',img)\t\t# 수정된 영상을 다시 그림\n",
    "\n",
    "cv.namedWindow('Painting')\n",
    "cv.imshow('Painting',img)\n",
    "\n",
    "cv.setMouseCallback('Painting',painting)\n",
    "\n",
    "while(True):\n",
    "    if cv.waitKey(1)==ord('q'):\n",
    "        cv.destroyAllWindows()      \n",
    "        break"
   ]
  },
  {
   "cell_type": "code",
   "execution_count": null,
   "id": "d742c9b6",
   "metadata": {},
   "outputs": [],
   "source": [
    "import cv2 as cv\n",
    "import sys\n",
    "\n",
    "img=cv.imread('soccer.jpg')\t# 영상 읽기\n",
    "\n",
    "if img is None:\n",
    "    sys.exit('파일을 찾을 수 없습니다.')\n",
    "    \n",
    "cv.imshow('Image Display',img)\t# 윈도우에 영상 표시\n",
    "\n",
    "cv.waitKey()\n",
    "cv.destroyAllWindows()"
   ]
  }
 ],
 "metadata": {
  "kernelspec": {
   "display_name": "tf310",
   "language": "python",
   "name": "python3"
  },
  "language_info": {
   "codemirror_mode": {
    "name": "ipython",
    "version": 3
   },
   "file_extension": ".py",
   "mimetype": "text/x-python",
   "name": "python",
   "nbconvert_exporter": "python",
   "pygments_lexer": "ipython3",
   "version": "3.10.18"
  }
 },
 "nbformat": 4,
 "nbformat_minor": 5
}
