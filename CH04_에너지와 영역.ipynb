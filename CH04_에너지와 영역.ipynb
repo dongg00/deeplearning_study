{
 "cells": [
  {
   "cell_type": "code",
   "execution_count": 4,
   "id": "46860892",
   "metadata": {},
   "outputs": [],
   "source": [
    "import skimage\n",
    "import numpy as np\n",
    "import cv2 as cv\n",
    "\n",
    "img=skimage.data.coffee()\n",
    "cv.imshow('Coffee image', cv.cvtColor(img,cv.COLOR_RGB2BGR))\n",
    "\n",
    "slic1=skimage.segmentation.slic(img,compactness=20,n_segments=600)\n",
    "sp_img1=skimage.segmentation.mark_boundaries(img,slic1)\n",
    "sp_img1=np.uint8(sp_img1*255.0)\n",
    "\n",
    "slic2=skimage.segmentation.slic(img,compactness=40,n_segments=600)\n",
    "sp_img2=skimage.segmentation.mark_boundaries(img,slic2)\n",
    "sp_img2=np.uint8(sp_img2*255.0)\n",
    "\n",
    "cv.imshow('Super pixels (compact 20)', cv.cvtColor(sp_img1,cv.COLOR_RGB2BGR))\n",
    "cv.imshow('Super pixels (compact 40)', cv.cvtColor(sp_img2,cv.COLOR_RGB2BGR))\n",
    "\n",
    "cv.waitKey()\n",
    "cv.destroyAllWindows()"
   ]
  },
  {
   "cell_type": "markdown",
   "id": "a27d6081",
   "metadata": {},
   "source": [
    "**정규화 절단 알고리즘으로 영역 분할**"
   ]
  },
  {
   "cell_type": "code",
   "execution_count": 8,
   "id": "29aa3fb6",
   "metadata": {},
   "outputs": [
    {
     "name": "stdout",
     "output_type": "stream",
     "text": [
      "(400, 600, 3) seg 3.9168834686279297 seconds\n"
     ]
    }
   ],
   "source": [
    "import skimage\n",
    "import numpy as np\n",
    "import cv2 as cv\n",
    "import time\n",
    "\n",
    "coffee=skimage.data.coffee()\n",
    "\n",
    "start=time.time()\n",
    "slic=skimage.segmentation.slic(coffee,compactness=20,n_segments=600,start_label=1)\n",
    "\n",
    "g=skimage.graph.rag_mean_color(coffee,slic,mode='similarity')\n",
    "ncut=skimage.graph.cut_normalized(slic,g)\n",
    "print(coffee.shape,'seg',time.time()-start,'seconds')\n",
    "\n",
    "marking=skimage.segmentation.mark_boundaries(coffee,ncut)\n",
    "ncut_coffee=np.uint8(marking*255.0)\n",
    "\n",
    "cv.imshow('normalized cut', cv.cvtColor(ncut_coffee,cv.COLOR_RGB2BGR))\n",
    "\n",
    "cv.waitKey()\n",
    "cv.destroyAllWindows()"
   ]
  },
  {
   "cell_type": "code",
   "execution_count": null,
   "id": "edff0fe0",
   "metadata": {},
   "outputs": [],
   "source": []
  }
 ],
 "metadata": {
  "kernelspec": {
   "display_name": "cv",
   "language": "python",
   "name": "python3"
  },
  "language_info": {
   "codemirror_mode": {
    "name": "ipython",
    "version": 3
   },
   "file_extension": ".py",
   "mimetype": "text/x-python",
   "name": "python",
   "nbconvert_exporter": "python",
   "pygments_lexer": "ipython3",
   "version": "3.10.18"
  }
 },
 "nbformat": 4,
 "nbformat_minor": 5
}
