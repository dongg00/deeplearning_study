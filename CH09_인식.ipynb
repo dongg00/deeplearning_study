{
 "cells": [
  {
   "cell_type": "code",
   "execution_count": 2,
   "id": "9a7784b7",
   "metadata": {},
   "outputs": [],
   "source": [
    "import numpy as np\n",
    "import cv2 as cv\n",
    "import sys\n",
    "\n",
    "def construct_yolo_v3():\n",
    "    f=open('coco_names.txt','r')\n",
    "    class_names=[line.strip() for line in f.readlines()]\n",
    "\n",
    "    model=cv.dnn.readNet('yolov3.weights','yolov3.cfg')\n",
    "    layer_names=model.getLayerNames()\n",
    "    out_layers=[layer_names[i-1]for i in model.getUnconnectedOutLayers()]\n",
    "\n",
    "    return model,out_layers,class_names\n",
    "\n",
    "def yolo_detect(img,yolo_model,out_layers):\n",
    "    height,width=img.shape[0],img.shape[1]\n",
    "    test_img=cv.dnn.blobFromImage(img,1.0/256,(448,448),(0,0,0),swapRB=True)\n",
    "    yolo_model.setInput(test_img)\n",
    "    output3=yolo_model.forward(out_layers)\n",
    "\n",
    "    box,conf,id=[],[],[]\n",
    "    for output in output3:\n",
    "        for vec85 in output:\n",
    "            scores=vec85[5:]\n",
    "            class_id=np.argmax(scores)\n",
    "            confidence=scores[class_id]\n",
    "            if confidence>0.5:\n",
    "                centerx,centery=int(vec85[0]*width),int(vec85[1]*height)\n",
    "                w,h=int(vec85[2]*width),int(vec85[3]*height)\n",
    "                x,y=int(centerx-w/2),int(centery-h/2)\n",
    "                box.append([x,y,x+w,y+h])\n",
    "                conf.append(float(confidence))\n",
    "                id.append(class_id)\n",
    "\n",
    "    ind=cv.dnn.NMSBoxes(box,conf,0.5,0.4)\n",
    "    objects=[box[i]+[conf[i]]+[id[i]]for i in range(len(box))if i in ind]\n",
    "    return objects\n",
    "\n",
    "model,out_layers,class_names=construct_yolo_v3()\t\t# YOLO 모델 생성\n",
    "colors=np.random.uniform(0,255,size=(len(class_names),3))\t# 부류마다 색깔\n",
    "\n",
    "img=cv.imread('soccer.jpg')\n",
    "if img is None: sys.exit('파일이 없습니다.')\n",
    "\n",
    "res=yolo_detect(img,model,out_layers)\t# YOLO 모델로 물체 검출\n",
    "\n",
    "for i in range(len(res)):\t\t\t# 검출된 물체를 영상에 표시\n",
    "    x1,y1,x2,y2,confidence,id=res[i]\n",
    "    text=str(class_names[id])+'%.3f'%confidence\n",
    "    cv.rectangle(img,(x1,y1),(x2,y2),colors[id],2)\n",
    "    cv.putText(img,text,(x1,y1+30),cv.FONT_HERSHEY_PLAIN,1.5,colors[id],2)\n",
    "\n",
    "cv.imshow(\"Object detection by YOLO v.3\",img)\n",
    "\n",
    "cv.waitKey()\n",
    "cv.destroyAllWindows()"
   ]
  },
  {
   "cell_type": "markdown",
   "id": "263bf75a",
   "metadata": {},
   "source": [
    "python==3.9\\\n",
    "tensorflow==2.10\\\n",
    "pixellib==0.7.1\\\n",
    "opencv-python==4.5.5.64\\\n",
    "numpy==1.23.5\\\n",
    "pillow==9.5.0\\\n",
    "imantics==0.1.12\\\n",
    "가상환경==newseg"
   ]
  },
  {
   "cell_type": "code",
   "execution_count": 3,
   "id": "3ce15505",
   "metadata": {},
   "outputs": [
    {
     "name": "stdout",
     "output_type": "stream",
     "text": [
      "✅ GPU 사용 중: [PhysicalDevice(name='/physical_device:GPU:0', device_type='GPU')]\n"
     ]
    }
   ],
   "source": [
    "from pixellib.instance import instance_segmentation\n",
    "import cv2 as cv\n",
    "import tensorflow as tf\n",
    "import tensorflow as tf\n",
    "gpus = tf.config.list_physical_devices('GPU')\n",
    "if gpus:\n",
    "    print(\"✅ GPU 사용 중:\", gpus)\n",
    "else:\n",
    "    print(\"❌ GPU 없음, CPU 사용 중\")\n",
    "\n",
    "\n",
    "tf.compat.v1.enable_eager_execution()\n",
    "\n",
    "\n",
    "seg = instance_segmentation()\n",
    "seg.load_model(\"mask_rcnn_coco.h5\")\n",
    "\n",
    "img_fname='busy_street.jpg'\n",
    "info,img_segmented=seg.segmentImage(img_fname,show_bboxes=True)\n",
    "\n",
    "cv.imshow('Image segmention overlayed',img_segmented)\n",
    "\n",
    "cv.waitKey()\n",
    "cv.destroyAllWindows()"
   ]
  },
  {
   "cell_type": "code",
   "execution_count": 1,
   "id": "990f04af",
   "metadata": {},
   "outputs": [
    {
     "name": "stdout",
     "output_type": "stream",
     "text": [
      "True\n",
      "WARNING:tensorflow:From C:\\Users\\asia\\AppData\\Local\\Temp\\ipykernel_19536\\721838787.py:3: is_gpu_available (from tensorflow.python.framework.test_util) is deprecated and will be removed in a future version.\n",
      "Instructions for updating:\n",
      "Use `tf.config.list_physical_devices('GPU')` instead.\n",
      "True\n",
      "Available GPUs: [PhysicalDevice(name='/physical_device:GPU:0', device_type='GPU')]\n"
     ]
    }
   ],
   "source": [
    "import tensorflow as tf\n",
    "print(tf.test.is_built_with_cuda())\n",
    "print(tf.test.is_gpu_available())\n",
    "print(\"Available GPUs:\", tf.config.list_physical_devices('GPU'))"
   ]
  },
  {
   "cell_type": "code",
   "execution_count": null,
   "id": "841c9582",
   "metadata": {},
   "outputs": [],
   "source": []
  }
 ],
 "metadata": {
  "kernelspec": {
   "display_name": "newseg",
   "language": "python",
   "name": "python3"
  },
  "language_info": {
   "codemirror_mode": {
    "name": "ipython",
    "version": 3
   },
   "file_extension": ".py",
   "mimetype": "text/x-python",
   "name": "python",
   "nbconvert_exporter": "python",
   "pygments_lexer": "ipython3",
   "version": "3.9.23"
  }
 },
 "nbformat": 4,
 "nbformat_minor": 5
}
